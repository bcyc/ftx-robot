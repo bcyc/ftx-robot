{
 "cells": [
  {
   "cell_type": "code",
   "execution_count": 1,
   "metadata": {},
   "outputs": [],
   "source": [
    "import schedule, time\n",
    "from ftx.client import FtxClient\n",
    "from staking import auto_staking\n",
    "from lending import auto_lending\n",
    "from settings import LENDING, MAIN\n",
    "\n",
    "\n",
    "def main() -> None:\n",
    "    lendingClient = FtxClient(api_key=LENDING['API'],\n",
    "                       api_secret=LENDING['SECRET'],\n",
    "                       subaccount_name=LENDING['SUBACCOUNT'])\n",
    "    stakingClient = FtxClient(api_key=MAIN['API'],\n",
    "                       api_secret=MAIN['SECRET'],\n",
    "                       subaccount_name=MAIN['SUBACCOUNT'])\n",
    "    auto_lending(lendingClient)\n",
    "    auto_staking(stakingClient)\n",
    "    schedule.every().hour.at(\":59\").do(auto_lending, lendingClient)\n",
    "    schedule.every().hour.at(\":45\").do(auto_staking, stakingClient)\n",
    "    while True:\n",
    "        schedule.run_pending()\n",
    "        time.sleep(30)"
   ]
  },
  {
   "cell_type": "code",
   "execution_count": null,
   "metadata": {},
   "outputs": [
    {
     "name": "stdout",
     "output_type": "stream",
     "text": [
      "[auto_lending] DEBUG: 2021-10-07 13:46:26.535012\n",
      "[auto_lending] DEBUG: start lending ETH\n",
      "[lend_coin] DEBUG: 2021-10-07 13:46:26.536012\n",
      "Lending coin: ETH, size: 0.297315, rate: 2.2700000000000003e-06\n",
      "[auto_lending] DEBUG: start lending USD\n",
      "[lend_coin] DEBUG: 2021-10-07 13:46:26.981037\n",
      "Lending coin: USD, size: 210.251838, rate: 7.98e-06\n",
      "[auto_lending] DEBUG: start lending BTC\n",
      "[lend_coin] DEBUG: 2021-10-07 13:46:27.477066\n",
      "Lending coin: BTC, size: 0.019371, rate: 9.9e-07\n",
      "[auto_staking] DEBUG: 2021-10-07 13:46:27.828086\n",
      "[stake_coin] DEBUG: balance = {'coin': 'SOL', 'total': 2.04878571, 'free': 0.1649189, 'availableWithoutBorrow': 1.403e-05, 'usdValue': 320.3452506925093, 'spotBorrow': 0.0}\n",
      "[stake_coin] DEBUG: coin = SOL, size = 1.403e-05\n",
      "{'id': 1763824, 'createdAt': '2021-10-07T04:46:30.429504+00:00', 'coin': 'SOL', 'size': 1.403e-05}\n",
      "[auto_lending] DEBUG: 2021-10-07 13:59:28.536740\n",
      "[auto_lending] DEBUG: start lending ETH\n",
      "[lend_coin] DEBUG: 2021-10-07 13:59:28.536740\n",
      "Lending coin: ETH, size: 0.297315, rate: 2.2700000000000003e-06\n",
      "[auto_lending] DEBUG: start lending USD\n",
      "[lend_coin] DEBUG: 2021-10-07 13:59:28.992766\n",
      "Lending coin: USD, size: 210.251838, rate: 7.98e-06\n",
      "[auto_lending] DEBUG: start lending BTC\n",
      "[lend_coin] DEBUG: 2021-10-07 13:59:29.359787\n",
      "Lending coin: BTC, size: 0.019371, rate: 9.9e-07\n",
      "[auto_staking] DEBUG: 2021-10-07 14:45:29.806675\n",
      "[stake_coin] DEBUG: balance = {'coin': 'SOL', 'total': 2.04879974, 'free': 0.19364154, 'availableWithoutBorrow': 1.403e-05, 'usdValue': 315.85453998717776, 'spotBorrow': 0.0}\n",
      "[stake_coin] DEBUG: coin = SOL, size = 1.403e-05\n",
      "{'id': 1764151, 'createdAt': '2021-10-07T05:45:32.194830+00:00', 'coin': 'SOL', 'size': 1.403e-05}\n",
      "[auto_lending] DEBUG: 2021-10-07 14:59:00.206028\n",
      "[auto_lending] DEBUG: start lending ETH\n",
      "[lend_coin] DEBUG: 2021-10-07 14:59:00.206028\n",
      "Lending coin: ETH, size: 0.297315, rate: 2.2700000000000003e-06\n",
      "[auto_lending] DEBUG: start lending USD\n",
      "[lend_coin] DEBUG: 2021-10-07 14:59:00.681055\n",
      "Lending coin: USD, size: 210.253518, rate: 7.98e-06\n",
      "[auto_lending] DEBUG: start lending BTC\n",
      "[lend_coin] DEBUG: 2021-10-07 14:59:01.063077\n",
      "Lending coin: BTC, size: 0.019371, rate: 9.9e-07\n",
      "[auto_staking] DEBUG: 2021-10-07 15:45:01.465963\n",
      "[stake_coin] DEBUG: balance = {'coin': 'SOL', 'total': 2.04881377, 'free': 0.19858705, 'availableWithoutBorrow': 1.403e-05, 'usdValue': 316.18611284880524, 'spotBorrow': 0.0}\n",
      "[stake_coin] DEBUG: coin = SOL, size = 1.403e-05\n",
      "{'id': 1764473, 'createdAt': '2021-10-07T06:45:03.928961+00:00', 'coin': 'SOL', 'size': 1.403e-05}\n",
      "[auto_lending] DEBUG: 2021-10-07 15:59:01.911033\n",
      "[auto_lending] DEBUG: start lending ETH\n",
      "[lend_coin] DEBUG: 2021-10-07 15:59:01.911033\n",
      "Lending coin: ETH, size: 0.297316, rate: 2.2700000000000003e-06\n",
      "[auto_lending] DEBUG: start lending USD\n",
      "[lend_coin] DEBUG: 2021-10-07 15:59:02.453064\n",
      "Lending coin: USD, size: 210.255197, rate: 7.98e-06\n",
      "[auto_lending] DEBUG: start lending BTC\n",
      "[lend_coin] DEBUG: 2021-10-07 15:59:02.893090\n",
      "Lending coin: BTC, size: 0.019371, rate: 9.9e-07\n"
     ]
    }
   ],
   "source": [
    "if __name__ == '__main__':\n",
    "    main()"
   ]
  },
  {
   "cell_type": "code",
   "execution_count": null,
   "metadata": {},
   "outputs": [],
   "source": []
  }
 ],
 "metadata": {
  "kernelspec": {
   "display_name": "Python 3",
   "language": "python",
   "name": "python3"
  },
  "language_info": {
   "codemirror_mode": {
    "name": "ipython",
    "version": 3
   },
   "file_extension": ".py",
   "mimetype": "text/x-python",
   "name": "python",
   "nbconvert_exporter": "python",
   "pygments_lexer": "ipython3",
   "version": "3.8.5"
  }
 },
 "nbformat": 4,
 "nbformat_minor": 4
}
