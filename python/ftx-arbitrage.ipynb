{
 "cells": [
  {
   "cell_type": "code",
   "execution_count": 1,
   "metadata": {},
   "outputs": [],
   "source": [
    "import schedule, time, datetime\n",
    "from ftx.client import FtxClient\n",
    "from arbitrage import open_arbitrage, close_arbitrage\n",
    "from settings import ARBITRAGE_C, ARBITRAGE_NC"
   ]
  },
  {
   "cell_type": "markdown",
   "metadata": {},
   "source": [
    "# Target and batch size setup"
   ]
  },
  {
   "cell_type": "code",
   "execution_count": 2,
   "metadata": {},
   "outputs": [],
   "source": [
    "COINS = {\n",
    "    ARBITRAGE_C['SUBACCOUNT']: {\n",
    "        'target': 'RUNE-PERP',\n",
    "        'batch': 3,\n",
    "    },\n",
    "    ARBITRAGE_NC['SUBACCOUNT']: {\n",
    "        'target': 'TRU-PERP',\n",
    "        'batch': 20,\n",
    "    },\n",
    "}"
   ]
  },
  {
   "cell_type": "code",
   "execution_count": 3,
   "metadata": {},
   "outputs": [],
   "source": [
    "collateral_arbitrageClient = FtxClient(api_key=ARBITRAGE_C['API'],\n",
    "                   api_secret=ARBITRAGE_C['SECRET'],\n",
    "                   subaccount_name=ARBITRAGE_C['SUBACCOUNT'])\n",
    "nonCollateral_arbitrageClient = FtxClient(api_key=ARBITRAGE_NC['API'],\n",
    "                   api_secret=ARBITRAGE_NC['SECRET'],\n",
    "                   subaccount_name=ARBITRAGE_NC['SUBACCOUNT'])"
   ]
  },
  {
   "cell_type": "markdown",
   "metadata": {},
   "source": [
    "# Loading Functions"
   ]
  },
  {
   "cell_type": "code",
   "execution_count": 4,
   "metadata": {},
   "outputs": [],
   "source": [
    "def auto_arbitrage(client: FtxClient, coin: dict) -> None:\n",
    "    print('[auto_arbitrage] DEBUG: <{}> {}'.format(coin['target'], datetime.datetime.now()))\n",
    "    usd_balance = client.get_balance_coin('USD').get('total', 0)\n",
    "    account_info = client.get_account_info()\n",
    "    leverage = 1/account_info['marginFraction']\n",
    "    future = client.get_single_market(coin['target'])\n",
    "    spot = client.get_single_market(coin['target'].split('-')[0] + '/USD')\n",
    "    if leverage < 3 and usd_balance >= 30:\n",
    "        spread = future.get('bid', 0) / spot.get('ask', 0)\n",
    "        if spread > 1.002:\n",
    "            print('[auto_arbitrage] DEBUG: <{}> Open {} positions.'.format(coin['target'], coin['batch']))\n",
    "            open_arbitrage(client, coin['target'], coin['batch'], coin['batch'])\n",
    "        else:\n",
    "            print('[auto_arbitrage] DEBUG: <{}> Spread = {}. Do nothing.'.format(coin['target'], spread))\n",
    "    elif leverage > 4:\n",
    "        print('[auto_arbitrage] DEBUG: <{}> Close {} positions.'.format(coin['target'], coin['batch']))\n",
    "        close_arbitrage(client, coin['target'], coin['batch'], coin['batch'])\n",
    "    else:\n",
    "        print('[auto_arbitrage] DEBUG: <{}> Leverage = {}. Do nothing.'.format(coin['target'], leverage))        "
   ]
  },
  {
   "cell_type": "code",
   "execution_count": 5,
   "metadata": {},
   "outputs": [],
   "source": [
    "def stop_arbitrage(client: FtxClient, coin: dict) -> None:\n",
    "    print('[stop_arbitrage] DEBUG: <{}> {}'.format(coin['target'], datetime.datetime.now()))\n",
    "    future_balance = client.get_position(coin['target']).get('size', 0)\n",
    "    spot_balance = client.get_balance_coin(coin['target'].split('-')[0]).get('total', 0)\n",
    "    if spot_balance >= coin['batch'] and future_balance >= coin['batch']:\n",
    "        future = client.get_single_market(coin['target'])\n",
    "        spot = client.get_single_market(coin['target'].split('-')[0] + '/USD')\n",
    "        spread = future.get('ask', 0) / spot.get('bid', 0)\n",
    "        if spread < 0.998:\n",
    "            print('[stop_arbitrage] DEBUG: <{}> Close {} positions.'.format(coin['target'], coin['batch']))\n",
    "            close_arbitrage(client, coin['target'], coin['batch'], coin['batch'])\n",
    "        else:\n",
    "            print('[stop_arbitrage] DEBUG: <{}> Spread = {}. Do nothing.'.format(coin['target'], spread))\n",
    "    else:\n",
    "        if spot_balance > 0 or future_balance > 0:\n",
    "            print('[stop_arbitrage] DEBUG: <{}> Close {} positions.'.format(coin['target'], future_balance))\n",
    "            close_arbitrage(client, coin['target'], spot_balance, future_balance)\n",
    "        else:\n",
    "            print('[stop_arbitrage] DEBUG: <{}> Balances = {}, {}. Do nothing.'.format(coin['target'], spot_balance, future_balance))"
   ]
  },
  {
   "cell_type": "code",
   "execution_count": 6,
   "metadata": {},
   "outputs": [],
   "source": [
    "def main() -> None:\n",
    "    schedule.every(5).seconds.do(auto_arbitrage, collateral_arbitrageClient, COINS[ARBITRAGE_C['SUBACCOUNT']])\n",
    "    schedule.every(5).seconds.do(auto_arbitrage, nonCollateral_arbitrageClient, COINS[ARBITRAGE_NC['SUBACCOUNT']])\n",
    "    schedule.every(5).seconds.do(stop_arbitrage, collateral_arbitrageClient, COINS[ARBITRAGE_C['SUBACCOUNT']])\n",
    "    schedule.every(5).seconds.do(stop_arbitrage, nonCollateral_arbitrageClient, COINS[ARBITRAGE_NC['SUBACCOUNT']])\n",
    "    while True:\n",
    "        schedule.run_pending()\n",
    "        time.sleep(1)"
   ]
  },
  {
   "cell_type": "markdown",
   "metadata": {},
   "source": [
    "# Start the Spot-Future Arbitrage Schedule"
   ]
  },
  {
   "cell_type": "code",
   "execution_count": 7,
   "metadata": {},
   "outputs": [
    {
     "name": "stdout",
     "output_type": "stream",
     "text": [
      "[auto_arbitrage] DEBUG: <RUNE-PERP> 2021-10-03 22:42:34.232871\n",
      "[auto_arbitrage] DEBUG: <RUNE-PERP> Leverage = 1.4961678403629197. Do nothing.\n",
      "[auto_arbitrage] DEBUG: <TRU-PERP> 2021-10-03 22:42:34.932911\n",
      "[auto_arbitrage] DEBUG: <TRU-PERP> Leverage = 3.469038273756042. Do nothing.\n",
      "[stop_arbitrage] DEBUG: <RUNE-PERP> 2021-10-03 22:42:35.624951\n",
      "[stop_arbitrage] DEBUG: <RUNE-PERP> Spread = 1.001244766323413. Do nothing.\n",
      "[stop_arbitrage] DEBUG: <TRU-PERP> 2021-10-03 22:42:36.265987\n",
      "[stop_arbitrage] DEBUG: <TRU-PERP> Spread = 1.0032. Do nothing.\n"
     ]
    },
    {
     "ename": "KeyboardInterrupt",
     "evalue": "",
     "output_type": "error",
     "traceback": [
      "\u001b[1;31m---------------------------------------------------------------------------\u001b[0m",
      "\u001b[1;31mKeyboardInterrupt\u001b[0m                         Traceback (most recent call last)",
      "\u001b[1;32m<ipython-input-7-c7bc734e5e35>\u001b[0m in \u001b[0;36m<module>\u001b[1;34m\u001b[0m\n\u001b[0;32m      1\u001b[0m \u001b[1;32mif\u001b[0m \u001b[0m__name__\u001b[0m \u001b[1;33m==\u001b[0m \u001b[1;34m'__main__'\u001b[0m\u001b[1;33m:\u001b[0m\u001b[1;33m\u001b[0m\u001b[1;33m\u001b[0m\u001b[0m\n\u001b[1;32m----> 2\u001b[1;33m     \u001b[0mmain\u001b[0m\u001b[1;33m(\u001b[0m\u001b[1;33m)\u001b[0m\u001b[1;33m\u001b[0m\u001b[1;33m\u001b[0m\u001b[0m\n\u001b[0m",
      "\u001b[1;32m<ipython-input-6-55dc2377ad14>\u001b[0m in \u001b[0;36mmain\u001b[1;34m()\u001b[0m\n\u001b[0;32m      6\u001b[0m     \u001b[1;32mwhile\u001b[0m \u001b[1;32mTrue\u001b[0m\u001b[1;33m:\u001b[0m\u001b[1;33m\u001b[0m\u001b[1;33m\u001b[0m\u001b[0m\n\u001b[0;32m      7\u001b[0m         \u001b[0mschedule\u001b[0m\u001b[1;33m.\u001b[0m\u001b[0mrun_pending\u001b[0m\u001b[1;33m(\u001b[0m\u001b[1;33m)\u001b[0m\u001b[1;33m\u001b[0m\u001b[1;33m\u001b[0m\u001b[0m\n\u001b[1;32m----> 8\u001b[1;33m         \u001b[0mtime\u001b[0m\u001b[1;33m.\u001b[0m\u001b[0msleep\u001b[0m\u001b[1;33m(\u001b[0m\u001b[1;36m1\u001b[0m\u001b[1;33m)\u001b[0m\u001b[1;33m\u001b[0m\u001b[1;33m\u001b[0m\u001b[0m\n\u001b[0m",
      "\u001b[1;31mKeyboardInterrupt\u001b[0m: "
     ]
    }
   ],
   "source": [
    "if __name__ == '__main__':\n",
    "    main()"
   ]
  },
  {
   "cell_type": "markdown",
   "metadata": {},
   "source": [
    "# Close the Spot-Future Arbitrage"
   ]
  },
  {
   "cell_type": "markdown",
   "metadata": {},
   "source": [
    "## Collateral Arbitrage Account"
   ]
  },
  {
   "cell_type": "code",
   "execution_count": null,
   "metadata": {},
   "outputs": [],
   "source": [
    "stop_arbitrage(collateral_arbitrageClient, COINS[ARBITRAGE_C['SUBACCOUNT']])"
   ]
  },
  {
   "cell_type": "markdown",
   "metadata": {},
   "source": [
    "## Non-collateral Arbitrage Account"
   ]
  },
  {
   "cell_type": "code",
   "execution_count": null,
   "metadata": {},
   "outputs": [],
   "source": [
    "stop_arbitrage(nonCollateral_arbitrageClient, COINS[ARBITRAGE_NC['SUBACCOUNT']])"
   ]
  },
  {
   "cell_type": "code",
   "execution_count": null,
   "metadata": {},
   "outputs": [],
   "source": []
  }
 ],
 "metadata": {
  "interpreter": {
   "hash": "6861b82f4e0655d89eab34cd3812cee542df70a573e9b9ad116b8ef59470f1f9"
  },
  "kernelspec": {
   "display_name": "Python 3",
   "language": "python",
   "name": "python3"
  },
  "language_info": {
   "codemirror_mode": {
    "name": "ipython",
    "version": 3
   },
   "file_extension": ".py",
   "mimetype": "text/x-python",
   "name": "python",
   "nbconvert_exporter": "python",
   "pygments_lexer": "ipython3",
   "version": "3.8.5"
  }
 },
 "nbformat": 4,
 "nbformat_minor": 2
}
